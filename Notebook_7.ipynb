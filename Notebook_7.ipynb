{
  "nbformat": 4,
  "nbformat_minor": 0,
  "metadata": {
    "colab": {
      "provenance": [],
      "include_colab_link": true
    },
    "language_info": {
      "codemirror_mode": {
        "name": "ipython",
        "version": 3
      },
      "file_extension": ".py",
      "mimetype": "text/x-python",
      "name": "python",
      "nbconvert_exporter": "python",
      "pygments_lexer": "ipython3",
      "version": "3.6.6"
    },
    "kernelspec": {
      "display_name": "Python 3",
      "language": "python",
      "name": "python3"
    }
  },
  "cells": [
    {
      "cell_type": "markdown",
      "metadata": {
        "id": "view-in-github",
        "colab_type": "text"
      },
      "source": [
        "<a href=\"https://colab.research.google.com/github/bmcristin/Ingeniasrepo/blob/main/Notebook_7.ipynb\" target=\"_parent\"><img src=\"https://colab.research.google.com/assets/colab-badge.svg\" alt=\"Open In Colab\"/></a>"
      ]
    },
    {
      "cell_type": "markdown",
      "metadata": {
        "id": "4CoLDDN0Scje"
      },
      "source": [
        "## Programa Ingenias+ Data Science"
      ]
    },
    {
      "cell_type": "markdown",
      "metadata": {
        "id": "Rkizi-vlScjg"
      },
      "source": [
        "## Trabajando con Pandas"
      ]
    },
    {
      "cell_type": "markdown",
      "metadata": {
        "id": "VRd6Ow_aScjg"
      },
      "source": [
        "1) Importa las librerias requeridas: `Pandas` y `NumPy`.  \n",
        "\n",
        "Una buena practica a la hora de escribir codigo es de comentar siempre que estoy haciendo (usando `#`) en la linea anterior. Por mas obvio que parezca lo que voy a hacer, puede ser que tenga que compartir el documento con otras personas y no sepan que quise hacer en cada linea. O que yo mismo lea el codigo tiempo despues y no recuerde porque lo hice."
      ]
    },
    {
      "cell_type": "code",
      "metadata": {
        "id": "Anvt8yoSScji"
      },
      "source": [
        "import numpy as np\n",
        "import pandas as pd\n"
      ],
      "execution_count": 2,
      "outputs": []
    },
    {
      "cell_type": "code",
      "source": [
        "# conecto my drive con collab\n",
        "from google.colab import drive\n",
        "drive.mount('/content/drive')"
      ],
      "metadata": {
        "id": "s0NH14M7ZTyY",
        "colab": {
          "base_uri": "https://localhost:8080/"
        },
        "outputId": "2a81bcd5-587a-42ea-86c9-065282711a5c"
      },
      "execution_count": 3,
      "outputs": [
        {
          "output_type": "stream",
          "name": "stdout",
          "text": [
            "Mounted at /content/drive\n"
          ]
        }
      ]
    },
    {
      "cell_type": "markdown",
      "metadata": {
        "id": "5YWvHd--Scjl"
      },
      "source": [
        "2) Lee el archivo csv `life_expectancy_data` usando `pandas`. Guardalo en una variable llamada `expvida`."
      ]
    },
    {
      "cell_type": "code",
      "metadata": {
        "id": "oM1b7mmxScjm"
      },
      "source": [
        "# Leo los datos en un DataFrame\n",
        "expvida = pd.read_csv(\"/content/drive/MyDrive/INGENIAS/notebook7/life_expectancy_data.csv\")"
      ],
      "execution_count": 4,
      "outputs": []
    },
    {
      "cell_type": "markdown",
      "metadata": {
        "id": "-a1OoVvIScjp"
      },
      "source": [
        "3) ¿Que tipo de estructura de datos contiene la variable `expvida`?"
      ]
    },
    {
      "cell_type": "code",
      "metadata": {
        "id": "7R6g46UGScjp",
        "colab": {
          "base_uri": "https://localhost:8080/"
        },
        "outputId": "8b10ccb7-16a0-456f-a498-618aac1078be"
      },
      "source": [
        "# Obtengo el tipo de estructura de datos\n",
        "print(type(expvida))"
      ],
      "execution_count": 5,
      "outputs": [
        {
          "output_type": "stream",
          "name": "stdout",
          "text": [
            "<class 'pandas.core.frame.DataFrame'>\n"
          ]
        }
      ]
    },
    {
      "cell_type": "markdown",
      "metadata": {
        "id": "EBwmuoKKScjv"
      },
      "source": [
        "4) ¿Cuantas filas y columnas tiene `expvida`?"
      ]
    },
    {
      "cell_type": "code",
      "metadata": {
        "id": "1oKt4xZmScjw",
        "colab": {
          "base_uri": "https://localhost:8080/"
        },
        "outputId": "322436ed-bcb8-4fa6-963c-651f40aac951"
      },
      "source": [
        "# Uso .shape para obtener cantidad de filas y columnas\n",
        "print(expvida.shape)"
      ],
      "execution_count": 6,
      "outputs": [
        {
          "output_type": "stream",
          "name": "stdout",
          "text": [
            "(2938, 22)\n"
          ]
        }
      ]
    },
    {
      "cell_type": "markdown",
      "metadata": {
        "id": "O-ICrkf6Scj0"
      },
      "source": [
        "**Numero de filas**: 2938"
      ]
    },
    {
      "cell_type": "markdown",
      "metadata": {
        "id": "zXyS8xzFScj0"
      },
      "source": [
        "**Numero de columnas**: 22"
      ]
    },
    {
      "cell_type": "markdown",
      "metadata": {
        "id": "V3cNAjIIScj1"
      },
      "source": [
        "5) ¿Cual es el nombre de las columnas contenidas en `expvida`?"
      ]
    },
    {
      "cell_type": "code",
      "metadata": {
        "id": "Cr61t2ALScj2",
        "colab": {
          "base_uri": "https://localhost:8080/"
        },
        "outputId": "39f30d89-13d1-44fb-9aa2-e71d7fa5098d"
      },
      "source": [
        "# Obtengo el nombre de las columnas\n",
        "print(expvida.columns)"
      ],
      "execution_count": 7,
      "outputs": [
        {
          "output_type": "stream",
          "name": "stdout",
          "text": [
            "Index(['Country', 'Year', 'Status', 'Life expectancy ', 'Adult Mortality',\n",
            "       'infant deaths', 'Alcohol', 'percentage expenditure', 'Hepatitis B',\n",
            "       'Measles ', ' BMI ', 'under-five deaths ', 'Polio', 'Total expenditure',\n",
            "       'Diphtheria ', ' HIV/AIDS', 'GDP', 'Population',\n",
            "       ' thinness  1-19 years', ' thinness 5-9 years',\n",
            "       'Income composition of resources', 'Schooling'],\n",
            "      dtype='object')\n"
          ]
        }
      ]
    },
    {
      "cell_type": "markdown",
      "metadata": {
        "id": "xbXCaw0mScj5"
      },
      "source": [
        "6) Inspecciona las primeras 10 filas de `expvida`"
      ]
    },
    {
      "cell_type": "code",
      "metadata": {
        "id": "WSUs6-wmScj6",
        "colab": {
          "base_uri": "https://localhost:8080/"
        },
        "outputId": "ca68dc47-ed7c-4a44-8472-070696392ea9"
      },
      "source": [
        "# Inspecciono las primeras filas\n",
        "print(expvida.head(10))"
      ],
      "execution_count": 8,
      "outputs": [
        {
          "output_type": "stream",
          "name": "stdout",
          "text": [
            "       Country  Year      Status  Life expectancy   Adult Mortality  \\\n",
            "0  Afghanistan  2015  Developing              65.0            263.0   \n",
            "1  Afghanistan  2014  Developing              59.9            271.0   \n",
            "2  Afghanistan  2013  Developing              59.9            268.0   \n",
            "3  Afghanistan  2012  Developing              59.5            272.0   \n",
            "4  Afghanistan  2011  Developing              59.2            275.0   \n",
            "5  Afghanistan  2010  Developing              58.8            279.0   \n",
            "6  Afghanistan  2009  Developing              58.6            281.0   \n",
            "7  Afghanistan  2008  Developing              58.1            287.0   \n",
            "8  Afghanistan  2007  Developing              57.5            295.0   \n",
            "9  Afghanistan  2006  Developing              57.3            295.0   \n",
            "\n",
            "   infant deaths  Alcohol  percentage expenditure  Hepatitis B  Measles   ...  \\\n",
            "0             62     0.01               71.279624         65.0      1154  ...   \n",
            "1             64     0.01               73.523582         62.0       492  ...   \n",
            "2             66     0.01               73.219243         64.0       430  ...   \n",
            "3             69     0.01               78.184215         67.0      2787  ...   \n",
            "4             71     0.01                7.097109         68.0      3013  ...   \n",
            "5             74     0.01               79.679367         66.0      1989  ...   \n",
            "6             77     0.01               56.762217         63.0      2861  ...   \n",
            "7             80     0.03               25.873925         64.0      1599  ...   \n",
            "8             82     0.02               10.910156         63.0      1141  ...   \n",
            "9             84     0.03               17.171518         64.0      1990  ...   \n",
            "\n",
            "   Polio  Total expenditure  Diphtheria    HIV/AIDS         GDP  Population  \\\n",
            "0    6.0               8.16         65.0        0.1  584.259210  33736494.0   \n",
            "1   58.0               8.18         62.0        0.1  612.696514    327582.0   \n",
            "2   62.0               8.13         64.0        0.1  631.744976  31731688.0   \n",
            "3   67.0               8.52         67.0        0.1  669.959000   3696958.0   \n",
            "4   68.0               7.87         68.0        0.1   63.537231   2978599.0   \n",
            "5   66.0               9.20         66.0        0.1  553.328940   2883167.0   \n",
            "6   63.0               9.42         63.0        0.1  445.893298    284331.0   \n",
            "7   64.0               8.33         64.0        0.1  373.361116   2729431.0   \n",
            "8   63.0               6.73         63.0        0.1  369.835796  26616792.0   \n",
            "9   58.0               7.43         58.0        0.1  272.563770   2589345.0   \n",
            "\n",
            "    thinness  1-19 years   thinness 5-9 years  \\\n",
            "0                   17.2                 17.3   \n",
            "1                   17.5                 17.5   \n",
            "2                   17.7                 17.7   \n",
            "3                   17.9                 18.0   \n",
            "4                   18.2                 18.2   \n",
            "5                   18.4                 18.4   \n",
            "6                   18.6                 18.7   \n",
            "7                   18.8                 18.9   \n",
            "8                   19.0                 19.1   \n",
            "9                   19.2                 19.3   \n",
            "\n",
            "   Income composition of resources  Schooling  \n",
            "0                            0.479       10.1  \n",
            "1                            0.476       10.0  \n",
            "2                            0.470        9.9  \n",
            "3                            0.463        9.8  \n",
            "4                            0.454        9.5  \n",
            "5                            0.448        9.2  \n",
            "6                            0.434        8.9  \n",
            "7                            0.433        8.7  \n",
            "8                            0.415        8.4  \n",
            "9                            0.405        8.1  \n",
            "\n",
            "[10 rows x 22 columns]\n"
          ]
        }
      ]
    },
    {
      "cell_type": "markdown",
      "metadata": {
        "id": "99b7sMhZScj_"
      },
      "source": [
        "7) Y ahora las 10 ultimas."
      ]
    },
    {
      "cell_type": "code",
      "metadata": {
        "id": "yaMMoHc7Scj_",
        "colab": {
          "base_uri": "https://localhost:8080/"
        },
        "outputId": "76b0867c-8a3b-4dd0-ca55-863077660201"
      },
      "source": [
        "# Inspecciono las ultimas filas\n",
        "print(expvida.tail(10))"
      ],
      "execution_count": 9,
      "outputs": [
        {
          "output_type": "stream",
          "name": "stdout",
          "text": [
            "       Country  Year      Status  Life expectancy   Adult Mortality  \\\n",
            "2928  Zimbabwe  2009  Developing              50.0            587.0   \n",
            "2929  Zimbabwe  2008  Developing              48.2            632.0   \n",
            "2930  Zimbabwe  2007  Developing              46.6             67.0   \n",
            "2931  Zimbabwe  2006  Developing              45.4              7.0   \n",
            "2932  Zimbabwe  2005  Developing              44.6            717.0   \n",
            "2933  Zimbabwe  2004  Developing              44.3            723.0   \n",
            "2934  Zimbabwe  2003  Developing              44.5            715.0   \n",
            "2935  Zimbabwe  2002  Developing              44.8             73.0   \n",
            "2936  Zimbabwe  2001  Developing              45.3            686.0   \n",
            "2937  Zimbabwe  2000  Developing              46.0            665.0   \n",
            "\n",
            "      infant deaths  Alcohol  percentage expenditure  Hepatitis B  Measles   \\\n",
            "2928             30     4.64                1.040021         73.0       853   \n",
            "2929             30     3.56               20.843429         75.0         0   \n",
            "2930             29     3.88               29.814566         72.0       242   \n",
            "2931             28     4.57               34.262169         68.0       212   \n",
            "2932             28     4.14                8.717409         65.0       420   \n",
            "2933             27     4.36                0.000000         68.0        31   \n",
            "2934             26     4.06                0.000000          7.0       998   \n",
            "2935             25     4.43                0.000000         73.0       304   \n",
            "2936             25     1.72                0.000000         76.0       529   \n",
            "2937             24     1.68                0.000000         79.0      1483   \n",
            "\n",
            "      ...  Polio  Total expenditure  Diphtheria    HIV/AIDS         GDP  \\\n",
            "2928  ...   69.0               6.26         73.0       18.1   65.824121   \n",
            "2929  ...   75.0               4.96         75.0       20.5  325.678573   \n",
            "2930  ...   73.0               4.47         73.0       23.7  396.998217   \n",
            "2931  ...   71.0               5.12          7.0       26.8  414.796232   \n",
            "2932  ...   69.0               6.44         68.0       30.3  444.765750   \n",
            "2933  ...   67.0               7.13         65.0       33.6  454.366654   \n",
            "2934  ...    7.0               6.52         68.0       36.7  453.351155   \n",
            "2935  ...   73.0               6.53         71.0       39.8   57.348340   \n",
            "2936  ...   76.0               6.16         75.0       42.1  548.587312   \n",
            "2937  ...   78.0               7.10         78.0       43.5  547.358878   \n",
            "\n",
            "      Population   thinness  1-19 years   thinness 5-9 years  \\\n",
            "2928   1381599.0                    7.5                  7.4   \n",
            "2929  13558469.0                    7.8                  7.8   \n",
            "2930   1332999.0                    8.2                  8.2   \n",
            "2931  13124267.0                    8.6                  8.6   \n",
            "2932    129432.0                    9.0                  9.0   \n",
            "2933  12777511.0                    9.4                  9.4   \n",
            "2934  12633897.0                    9.8                  9.9   \n",
            "2935    125525.0                    1.2                  1.3   \n",
            "2936  12366165.0                    1.6                  1.7   \n",
            "2937  12222251.0                   11.0                 11.2   \n",
            "\n",
            "      Income composition of resources  Schooling  \n",
            "2928                            0.419        9.9  \n",
            "2929                            0.421        9.7  \n",
            "2930                            0.414        9.6  \n",
            "2931                            0.408        9.5  \n",
            "2932                            0.406        9.3  \n",
            "2933                            0.407        9.2  \n",
            "2934                            0.418        9.5  \n",
            "2935                            0.427       10.0  \n",
            "2936                            0.427        9.8  \n",
            "2937                            0.434        9.8  \n",
            "\n",
            "[10 rows x 22 columns]\n"
          ]
        }
      ]
    },
    {
      "cell_type": "markdown",
      "metadata": {
        "id": "thLRW3GjSckC"
      },
      "source": [
        "8) ¿Que tipos de datos contiene cada una de las columnas de `expvida`?"
      ]
    },
    {
      "cell_type": "code",
      "metadata": {
        "id": "AfAgFAJdSckD",
        "colab": {
          "base_uri": "https://localhost:8080/"
        },
        "outputId": "28c60df8-e729-44d9-9289-b19568f8f771"
      },
      "source": [
        "# Tipo de datos en cada columna\n",
        "print(expvida.dtypes)"
      ],
      "execution_count": 10,
      "outputs": [
        {
          "output_type": "stream",
          "name": "stdout",
          "text": [
            "Country                             object\n",
            "Year                                 int64\n",
            "Status                              object\n",
            "Life expectancy                    float64\n",
            "Adult Mortality                    float64\n",
            "infant deaths                        int64\n",
            "Alcohol                            float64\n",
            "percentage expenditure             float64\n",
            "Hepatitis B                        float64\n",
            "Measles                              int64\n",
            " BMI                               float64\n",
            "under-five deaths                    int64\n",
            "Polio                              float64\n",
            "Total expenditure                  float64\n",
            "Diphtheria                         float64\n",
            " HIV/AIDS                          float64\n",
            "GDP                                float64\n",
            "Population                         float64\n",
            " thinness  1-19 years              float64\n",
            " thinness 5-9 years                float64\n",
            "Income composition of resources    float64\n",
            "Schooling                          float64\n",
            "dtype: object\n"
          ]
        }
      ]
    },
    {
      "cell_type": "markdown",
      "metadata": {
        "id": "7Nsyhb7LSckG"
      },
      "source": [
        "9) ¿Hay valores faltantes en alguna de las columnas de `expvida`?"
      ]
    },
    {
      "cell_type": "code",
      "metadata": {
        "id": "DP_IgUWzSckI",
        "colab": {
          "base_uri": "https://localhost:8080/"
        },
        "outputId": "d04472f1-0ab1-4ae7-e698-1e516a2a8617"
      },
      "source": [
        "# Obtengo la cantidad de datos faltantes en cada columna\n",
        "print(expvida.isnull().sum())\n",
        "# Si, hay valores faltantes donde la segunda columna es distanta de cero"
      ],
      "execution_count": 11,
      "outputs": [
        {
          "output_type": "stream",
          "name": "stdout",
          "text": [
            "Country                              0\n",
            "Year                                 0\n",
            "Status                               0\n",
            "Life expectancy                     10\n",
            "Adult Mortality                     10\n",
            "infant deaths                        0\n",
            "Alcohol                            194\n",
            "percentage expenditure               0\n",
            "Hepatitis B                        553\n",
            "Measles                              0\n",
            " BMI                                34\n",
            "under-five deaths                    0\n",
            "Polio                               19\n",
            "Total expenditure                  226\n",
            "Diphtheria                          19\n",
            " HIV/AIDS                            0\n",
            "GDP                                448\n",
            "Population                         652\n",
            " thinness  1-19 years               34\n",
            " thinness 5-9 years                 34\n",
            "Income composition of resources    167\n",
            "Schooling                          163\n",
            "dtype: int64\n"
          ]
        }
      ]
    },
    {
      "cell_type": "markdown",
      "metadata": {
        "id": "Q7-bL4tlSckL"
      },
      "source": [
        "10) Selecciona el maximo de datos faltantes. Calcula que porcentaje de los datos representan los datos faltantes."
      ]
    },
    {
      "cell_type": "code",
      "metadata": {
        "id": "gicdHYh0SckM",
        "colab": {
          "base_uri": "https://localhost:8080/"
        },
        "outputId": "953eddfd-6f9c-4e9e-f536-d6d20436aba9"
      },
      "source": [
        "# Obtengo el maximo valor de datos faltantes y lo guardo en la variable masnan\n",
        "masnan = expvida.isnull().sum()\n",
        "columnaconmasnan = masnan.idxmax()\n",
        "#calculo el porcentaje\n",
        "totalnan = expvida.isnull().sum().sum()\n",
        "\n",
        "porcentaje = (totalnan*100)/expvida.size\n",
        "#imprimo\n",
        "print(f\"La columna con mas datos faltantes es \\\" {columnaconmasnan} \\\" con un total de NaN de : {masnan.max()}\")\n",
        "print(f\"El porcentaje de datos nulos es {porcentaje} %\")\n",
        "print(columnaconmasnan)"
      ],
      "execution_count": 15,
      "outputs": [
        {
          "output_type": "stream",
          "name": "stdout",
          "text": [
            "La columna con mas datos faltantes es \" Population \" con un total de NaN de : 652\n",
            "El porcentaje de datos nulos es 3.965282505105514 %\n",
            "Population\n"
          ]
        }
      ]
    },
    {
      "cell_type": "markdown",
      "metadata": {
        "id": "hUXqdma_Sckj"
      },
      "source": [
        "#### Ahora vamos a realizar algunos calculos y manipulaciones sobre las columnas."
      ]
    },
    {
      "cell_type": "markdown",
      "metadata": {
        "id": "eBzg8GYGSckk"
      },
      "source": [
        "Una función útil para este fin es: `.rename()`. Y podemos utilizarla de la siguiente manera: Si `df` es mi DataFrame y quiero renombrar la columna `columna` como `columna1`, y la columna `columna2` como `columna3`, utilizo la siguiente sintaxis:\n",
        "  \n",
        "`df.rename(columns={\"columna\": \"columna1\", \"columna2\": \"columna3\"}, inplace=True)`"
      ]
    },
    {
      "cell_type": "markdown",
      "metadata": {
        "id": "EYINiSHdSckl"
      },
      "source": [
        "11) Renombra la columna 'Life expectancy ' como 'life_expectancy', ' BMI ' como 'bmi' y ''Measles ' como 'measles'. No olvides de usar `inplace` para modificar el DataFrame original. Luego chequea que el cambio se haya hecho correctamente."
      ]
    },
    {
      "cell_type": "code",
      "metadata": {
        "id": "TL4b2ueXSckm"
      },
      "source": [
        "# Renombro columnas del DataFrame\n",
        "expvida.rename(columns={'Life expectancy ':'life_expectancy', 'BMI ': 'bmi','Measles ': 'measles','Year':'year'}, inplace=True)"
      ],
      "execution_count": null,
      "outputs": []
    },
    {
      "cell_type": "code",
      "metadata": {
        "id": "r1RVoERMSckp",
        "colab": {
          "base_uri": "https://localhost:8080/"
        },
        "outputId": "8a5fc304-fb01-43f3-9832-ac9bcca7a23b"
      },
      "source": [
        "# Chequeo que se hayan reemplazado correctamente\n",
        "print(expvida.columns)"
      ],
      "execution_count": null,
      "outputs": [
        {
          "output_type": "stream",
          "name": "stdout",
          "text": [
            "Index(['Country', 'year', 'Status', 'life_expectancy', 'Adult Mortality',\n",
            "       'infant deaths', 'Alcohol', 'percentage expenditure', 'Hepatitis B',\n",
            "       'measles', ' BMI ', 'under-five deaths ', 'Polio', 'Total expenditure',\n",
            "       'Diphtheria ', ' HIV/AIDS', 'GDP', 'Population',\n",
            "       ' thinness  1-19 years', ' thinness 5-9 years',\n",
            "       'Income composition of resources', 'Schooling'],\n",
            "      dtype='object')\n"
          ]
        }
      ]
    },
    {
      "cell_type": "markdown",
      "metadata": {
        "id": "cNXpOsdiScks"
      },
      "source": [
        "12) ¿Cual es el promedio de expectativa de vida (Life expectancy) en general?"
      ]
    },
    {
      "cell_type": "code",
      "metadata": {
        "id": "OYv3yiXmSckt",
        "colab": {
          "base_uri": "https://localhost:8080/"
        },
        "outputId": "6f1df066-e31f-4129-bbd2-6618ffca2eed"
      },
      "source": [
        "# Obtengo el promedio de la columna\n",
        "promedioLE = expvida['life_expectancy'].mean()\n",
        "print(f\"El promedio de vida es de {promedioLE} años\")"
      ],
      "execution_count": null,
      "outputs": [
        {
          "output_type": "stream",
          "name": "stdout",
          "text": [
            "El promedio de vida es de 69.22493169398908 años\n"
          ]
        }
      ]
    },
    {
      "cell_type": "markdown",
      "metadata": {
        "id": "A-bzQhFqSckw"
      },
      "source": [
        "13) ¿Cual es el promedio de expectativa de vida (Life expectancy) por país?"
      ]
    },
    {
      "cell_type": "code",
      "metadata": {
        "id": "eWN_AJPMSckx",
        "colab": {
          "base_uri": "https://localhost:8080/"
        },
        "outputId": "66b87145-a30f-4d6c-c726-ed37fb90d8d1"
      },
      "source": [
        "# Obtengo el promedio por pais\n",
        "promedioLEpais = expvida['life_expectancy'].groupby(expvida['Country']).mean()\n",
        "print(promedioLEpais)"
      ],
      "execution_count": null,
      "outputs": [
        {
          "output_type": "stream",
          "name": "stdout",
          "text": [
            "Country\n",
            "Afghanistan                           58.19375\n",
            "Albania                               75.15625\n",
            "Algeria                               73.61875\n",
            "Angola                                49.01875\n",
            "Antigua and Barbuda                   75.05625\n",
            "                                        ...   \n",
            "Venezuela (Bolivarian Republic of)    73.38750\n",
            "Viet Nam                              74.77500\n",
            "Yemen                                 63.86250\n",
            "Zambia                                53.90625\n",
            "Zimbabwe                              50.48750\n",
            "Name: life_expectancy, Length: 193, dtype: float64\n"
          ]
        }
      ]
    },
    {
      "cell_type": "markdown",
      "metadata": {
        "id": "YIopZIPrSck0"
      },
      "source": [
        "14) ¿Cual es la expectativa de vida mas alta y mas baja? Usa la funcion de pandas y la funcion de NumPy y compara el resultado. ¿Que paises tienen esas expectativas de vida?"
      ]
    },
    {
      "cell_type": "code",
      "metadata": {
        "id": "gU8js5J8Sck0",
        "colab": {
          "base_uri": "https://localhost:8080/"
        },
        "outputId": "9b7db283-f6df-4ffd-d436-dc7b484211ea"
      },
      "source": [
        "# Maxima expectativa de vida usando numpy\n",
        "maxLE = np.max(expvida.life_expectancy)\n",
        "nombremaxLE = promedioLEpais.idxmax()\n",
        "print(f'El pais con la mayor expectativa de vida es: {nombremaxLE} con una expectativa de vida de : {maxLE} años')"
      ],
      "execution_count": null,
      "outputs": [
        {
          "output_type": "stream",
          "name": "stdout",
          "text": [
            "El pais con mayor expectativa de vida es: Japan con una expectativa de vida de : 89.0 años\n"
          ]
        }
      ]
    },
    {
      "cell_type": "code",
      "metadata": {
        "id": "_JyNdRuESck2",
        "colab": {
          "base_uri": "https://localhost:8080/"
        },
        "outputId": "611c92e6-8393-4e5a-9609-e578606ad894"
      },
      "source": [
        "# Maxima expectativa de vida usando pandas\n",
        "pdmaxLE = expvida.life_expectancy.max()\n",
        "print(pdmaxLE)"
      ],
      "execution_count": null,
      "outputs": [
        {
          "output_type": "stream",
          "name": "stdout",
          "text": [
            "89.0\n"
          ]
        }
      ]
    },
    {
      "cell_type": "code",
      "metadata": {
        "id": "pTCZ9VJXSck4",
        "colab": {
          "base_uri": "https://localhost:8080/"
        },
        "outputId": "35b97352-2e9f-4136-eabe-fa84aa2000b2"
      },
      "source": [
        "# Minima expectativa de vida usando numpy\n",
        "minLE = np.min(expvida.life_expectancy)\n",
        "nombreminLE = promedioLEpais.idxmin()\n",
        "print(f'El pais con la minima expectativa de vida es: {nombreminLE} con una expectativa de vida de : {minLE} años')"
      ],
      "execution_count": null,
      "outputs": [
        {
          "output_type": "stream",
          "name": "stdout",
          "text": [
            "El pais con minima expectativa de vida es: Sierra Leone con una expectativa de vida de : 36.3 años\n"
          ]
        }
      ]
    },
    {
      "cell_type": "code",
      "metadata": {
        "id": "BbJ9nW_LSck6",
        "colab": {
          "base_uri": "https://localhost:8080/"
        },
        "outputId": "9048ce47-e05a-4d6f-8a97-147dc4f5f88e"
      },
      "source": [
        "# Minima expectativa de vida usando pandas\n",
        "pdminLE = expvida.life_expectancy.min()\n",
        "print(pdminLE)"
      ],
      "execution_count": null,
      "outputs": [
        {
          "output_type": "stream",
          "name": "stdout",
          "text": [
            "36.3\n"
          ]
        }
      ]
    },
    {
      "cell_type": "code",
      "metadata": {
        "id": "jUZlYu3BSck_"
      },
      "source": [
        "# Muestro los resultados minimos\n"
      ],
      "execution_count": null,
      "outputs": []
    },
    {
      "cell_type": "code",
      "metadata": {
        "id": "et_RZ44GSclB"
      },
      "source": [
        "# Filtro las columnas para mostrar solo las filas que tengan valor\n",
        "# igual al maximo\n",
        "colmaxLE = expvida[expvida.life_expectancy == maxLE]\n",
        "print(colmaxLE)"
      ],
      "execution_count": null,
      "outputs": []
    },
    {
      "cell_type": "code",
      "metadata": {
        "id": "IQnm1-44SclE"
      },
      "source": [
        "# Filtro las columnas para mostrar solo las filas que tengan valor\n",
        "# igual al minimo\n",
        "colminLE = expvida[expvida.life_expectancy == minLE]\n",
        "print(colminLE)"
      ],
      "execution_count": null,
      "outputs": []
    },
    {
      "cell_type": "markdown",
      "metadata": {
        "id": "mk_q0UUdSclq"
      },
      "source": [
        "15) ¿Cuantas categorias encontramos en la columna \"Status\"? _**Pista**_: Lee acerca de la función [unique()](http://pandas.pydata.org/pandas-docs/stable/reference/api/pandas.Series.unique.html?highlight=unique#pandas.Series.unique)"
      ]
    },
    {
      "cell_type": "code",
      "metadata": {
        "id": "HA2tDgWVSclq",
        "colab": {
          "base_uri": "https://localhost:8080/"
        },
        "outputId": "9e61eb8b-d3d7-4f88-d462-9d921f298cd5"
      },
      "source": [
        "# Obtengo los valores unicos de la columna status\n",
        "difstatus = expvida['Status'].unique()\n",
        "print(difstatus)"
      ],
      "execution_count": null,
      "outputs": [
        {
          "output_type": "stream",
          "name": "stdout",
          "text": [
            "['Developing' 'Developed']\n"
          ]
        }
      ]
    },
    {
      "cell_type": "code",
      "metadata": {
        "id": "a8zkd7TTSclw",
        "colab": {
          "base_uri": "https://localhost:8080/"
        },
        "outputId": "c70bbd6c-c819-4b6f-9b72-210e3550b3bb"
      },
      "source": [
        "# Cuento cuantos valores hay de cada categoria\n",
        "developed = np.count_nonzero(expvida['Status'] == 'Developed')\n",
        "developing = np.count_nonzero(expvida['Status'] == 'Developing')\n",
        "print(f'La cantidad de paises desarrollados es: {developed}')\n",
        "print(f'La cantidad de paises en desarrollo es: {developing}')"
      ],
      "execution_count": null,
      "outputs": [
        {
          "output_type": "stream",
          "name": "stdout",
          "text": [
            "La cantidad de paises desarrollados es: 512\n",
            "La cantidad de paises en desarrollo es: 2426\n"
          ]
        }
      ]
    },
    {
      "cell_type": "markdown",
      "metadata": {
        "id": "IFvTsLnQSclz"
      },
      "source": [
        "18) ¿Cuantos paises presentaron algun caso de Sarampion (**Measles**) en el 2015? **_Pista_**: Lee acerca de la función [.count()](http://pandas.pydata.org/pandas-docs/stable/reference/api/pandas.DataFrame.count.html?highlight=count#pandas.DataFrame.count)"
      ]
    },
    {
      "cell_type": "code",
      "metadata": {
        "id": "qOyyukGmSclz",
        "colab": {
          "base_uri": "https://localhost:8080/"
        },
        "outputId": "99150bec-38a5-42ba-e266-413f34473fbc"
      },
      "source": [
        "# Cuento cuantas filas tienen valores distintos de cero\n",
        "paisesSarampion = expvida[(expvida.measles != 0) & (expvida.year == 2015)].count()\n",
        "print(paisesSarampion)"
      ],
      "execution_count": null,
      "outputs": [
        {
          "output_type": "stream",
          "name": "stdout",
          "text": [
            "Country                            121\n",
            "year                               121\n",
            "Status                             121\n",
            "life_expectancy                    121\n",
            "Adult Mortality                    121\n",
            "infant deaths                      121\n",
            "Alcohol                              4\n",
            "percentage expenditure             121\n",
            "Hepatitis B                        114\n",
            "measles                            121\n",
            " BMI                               119\n",
            "under-five deaths                  121\n",
            "Polio                              121\n",
            "Total expenditure                    1\n",
            "Diphtheria                         121\n",
            " HIV/AIDS                          121\n",
            "GDP                                100\n",
            "Population                          95\n",
            " thinness  1-19 years              119\n",
            " thinness 5-9 years                119\n",
            "Income composition of resources    113\n",
            "Schooling                          113\n",
            "dtype: int64\n"
          ]
        }
      ]
    },
    {
      "cell_type": "code",
      "metadata": {
        "id": "aFaOi_mmScl2"
      },
      "source": [],
      "execution_count": null,
      "outputs": []
    }
  ]
}